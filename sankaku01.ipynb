{
 "cells": [
  {
   "cell_type": "code",
   "execution_count": 1,
   "id": "b0a1cf13-3a9a-4ef8-abdc-3a49157cdc32",
   "metadata": {},
   "outputs": [],
   "source": [
    "import pandas as pd\n",
    "import numpy as np\n",
    "import matplotlib.pyplot as plt\n",
    "from datetime import datetime\n",
    "\n",
    "plt.rcParams['font.family']='MS Gothic' #日本語表示\n",
    "%matplotlib inline\n",
    "\n",
    "from ipywidgets import interact"
   ]
  },
  {
   "cell_type": "code",
   "execution_count": 2,
   "id": "9fdf41bd-40ad-4764-8f53-bb8af73f7e5b",
   "metadata": {},
   "outputs": [
    {
     "data": {
      "image/png": "[encoded data removed]",
      "text/plain": [
       "<Figure size 720x720 with 1 Axes>"
      ]
     },
     "metadata": {
      "needs_background": "light"
     },
     "output_type": "display_data"
    }
   ],
   "source": [
    "fig,ax=plt.subplots(1,1,figsize=(10,10))\n",
    "\n",
    "x=np.linspace(-np.pi*2,np.pi*2)\n",
    "y=np.sin(x)\n",
    "plt.plot(x,y)\n",
    "\n",
    "plt.xlim(-np.pi*2,np.pi*2)\n",
    "plt.ylim(-1.5,1.5)\n",
    "ax.set_aspect('equal')\n",
    "ax.set_xticks([-np.pi*2,-np.pi,0,np.pi,np.pi*2])\n",
    "ax.set_xticklabels(['-2π','-π','0','π','2π'])\n",
    "ax.grid()"
   ]
  },
  {
   "cell_type": "code",
   "execution_count": 3,
   "id": "e3f3394e-0ba9-427b-83bd-079aabe77a97",
   "metadata": {},
   "outputs": [
    {
     "data": {
      "application/vnd.jupyter.widget-view+json": {
       "model_id": "ff3fab01b2af43e7a4e343c8aa63a6b4",
       "version_major": 2,
       "version_minor": 0
      },
      "text/plain": [
       "interactive(children=(FloatSlider(value=5.0, description='k', max=10.0), Output()), _dom_classes=('widget-inte…"
      ]
     },
     "metadata": {},
     "output_type": "display_data"
    },
    {
     "data": {
      "application/vnd.jupyter.widget-view+json": {
       "model_id": "b36e6a0251554adab22072339730a720",
       "version_major": 2,
       "version_minor": 0
      },
      "text/plain": [
       "interactive(children=(FloatSlider(value=5.0, description='k', max=10.0), Output()), _dom_classes=('widget-inte…"
      ]
     },
     "metadata": {},
     "output_type": "display_data"
    },
    {
     "data": {
      "text/plain": [
       "<function __main__.f(k)>"
      ]
     },
     "execution_count": 3,
     "metadata": {},
     "output_type": "execute_result"
    }
   ],
   "source": [
    "def f(k):\n",
    "    x = np.linspace(0, 10, num=1000)\n",
    "    y = np.sin(k*x)\n",
    "    plt.plot(x, y)\n",
    "    #plt.show()\n",
    "\n",
    "interact(f, k=(0.0,10.0,0.1) )\n",
    "\n",
    "interact(f, k=(0.0,10.0,0.1) )"
   ]
  },
  {
   "cell_type": "code",
   "execution_count": 4,
   "id": "43ee609c-a119-44ad-a7b2-3e1fd1c126dc",
   "metadata": {},
   "outputs": [
    {
     "data": {
      "application/vnd.jupyter.widget-view+json": {
       "model_id": "04e9e2a419264f799e84e38fb40a1a29",
       "version_major": 2,
       "version_minor": 0
      },
      "text/plain": [
       "interactive(children=(FloatSlider(value=5.0, description='k', max=10.0), Output()), _dom_classes=('widget-inte…"
      ]
     },
     "metadata": {},
     "output_type": "display_data"
    }
   ],
   "source": [
    "@interact(k=(0.0,10.0,0.1) ) #デコレーションを関数の定義の前につける\n",
    "def f(k):\n",
    "    x = np.linspace(0, 10, num=1000)\n",
    "    y = np.sin(k*x)\n",
    "    plt.plot(x, y)\n",
    "    #plt.show()\n"
   ]
  },
  {
   "cell_type": "markdown",
   "id": "301e890c-c8b5-4859-ae26-fdf8888c06d1",
   "metadata": {},
   "source": [
    "# パラメーターを含む関数のグラフ\n",
    "\n",
    "## $$y=\\sin kx  　と　y=k\\sin x$$"
   ]
  },
  {
   "cell_type": "code",
   "execution_count": 40,
   "id": "a661fa49-607d-4ebb-a3a0-951fbd3dcd57",
   "metadata": {},
   "outputs": [
    {
     "data": {
      "application/vnd.jupyter.widget-view+json": {
       "model_id": "b61347a934064cc69f4ae57525ce984c",
       "version_major": 2,
       "version_minor": 0
      },
      "text/plain": [
       "interactive(children=(FloatSlider(value=5.0, description='k', max=10.0), Output()), _dom_classes=('widget-inte…"
      ]
     },
     "metadata": {},
     "output_type": "display_data"
    },
    {
     "data": {
      "text/plain": [
       "<function __main__.f(k)>"
      ]
     },
     "execution_count": 40,
     "metadata": {},
     "output_type": "execute_result"
    }
   ],
   "source": [
    "def f(k):    \n",
    "    x = np.linspace(-10, 10, num=1000)\n",
    "    y0 = np.sin(k*x)\n",
    "    y1 = k*np.sin(x)\n",
    "    \n",
    "    fig,axes = plt.subplots(1,2,figsize=(20,5))\n",
    "    axes[0].plot(x,y0,label='y=sin(kx)')\n",
    "    axes[1].plot(x,y1,label='y=k sin(x)',color='g') \n",
    "    \n",
    "    for i in [0,1]:\n",
    "        axes[i].set_aspect('equal')\n",
    "        axes[i].set_xticks(np.arange(-10,11,2))\n",
    "        axes[i].set_yticks(range(-6,7,2))\n",
    "        axes[i].set_xlim(-11,11)\n",
    "        axes[i].set_ylim(-6,6)\n",
    "        axes[i].grid()\n",
    "        axes[i].legend(loc=1)\n",
    "\n",
    "    #plt.show()\n",
    "\n",
    "interact(f,k=(0.0,10.0,0.1) )"
   ]
  },
  {
   "cell_type": "code",
   "execution_count": 41,
   "id": "1f312beb-3923-43ad-8440-151393d60f91",
   "metadata": {},
   "outputs": [
    {
     "data": {
      "text/html": [
       "<div>\n",
       "<style scoped>\n",
       "    .dataframe tbody tr th:only-of-type {\n",
       "        vertical-align: middle;\n",
       "    }\n",
       "\n",
       "    .dataframe tbody tr th {\n",
       "        vertical-align: top;\n",
       "    }\n",
       "\n",
       "    .dataframe thead th {\n",
       "        text-align: right;\n",
       "    }\n",
       "</style>\n",
       "<table border=\"1\" class=\"dataframe\">\n",
       "  <thead>\n",
       "    <tr style=\"text-align: right;\">\n",
       "      <th></th>\n",
       "      <th>AAPL</th>\n",
       "      <th>MSFT</th>\n",
       "      <th>XOM</th>\n",
       "    </tr>\n",
       "  </thead>\n",
       "  <tbody>\n",
       "    <tr>\n",
       "      <th>2003-01-02</th>\n",
       "      <td>7.40</td>\n",
       "      <td>21.11</td>\n",
       "      <td>29.22</td>\n",
       "    </tr>\n",
       "    <tr>\n",
       "      <th>2003-01-03</th>\n",
       "      <td>7.45</td>\n",
       "      <td>21.14</td>\n",
       "      <td>29.24</td>\n",
       "    </tr>\n",
       "    <tr>\n",
       "      <th>2003-01-06</th>\n",
       "      <td>7.45</td>\n",
       "      <td>21.52</td>\n",
       "      <td>29.96</td>\n",
       "    </tr>\n",
       "    <tr>\n",
       "      <th>2003-01-07</th>\n",
       "      <td>7.43</td>\n",
       "      <td>21.93</td>\n",
       "      <td>28.95</td>\n",
       "    </tr>\n",
       "    <tr>\n",
       "      <th>2003-01-08</th>\n",
       "      <td>7.28</td>\n",
       "      <td>21.31</td>\n",
       "      <td>28.83</td>\n",
       "    </tr>\n",
       "  </tbody>\n",
       "</table>\n",
       "</div>"
      ],
      "text/plain": [
       "            AAPL   MSFT    XOM\n",
       "2003-01-02  7.40  21.11  29.22\n",
       "2003-01-03  7.45  21.14  29.24\n",
       "2003-01-06  7.45  21.52  29.96\n",
       "2003-01-07  7.43  21.93  28.95\n",
       "2003-01-08  7.28  21.31  28.83"
      ]
     },
     "execution_count": 41,
     "metadata": {},
     "output_type": "execute_result"
    }
   ],
   "source": [
    "close_px_all = pd.read_csv('C:/Users/owner/OneDrive/プログラミング/data_bunseki_nyumon/examples/stock_px_2.csv',\n",
    "                           parse_dates=True, index_col=0)\n",
    "\n",
    "close_px = close_px_all[['AAPL', 'MSFT', 'XOM']].resample('B').ffill()\n",
    "close_px.head()"
   ]
  },
  {
   "cell_type": "code",
   "execution_count": 7,
   "id": "b318eab5-5df6-4359-b4c1-0ec0669d189f",
   "metadata": {},
   "outputs": [
    {
     "data": {
      "application/vnd.jupyter.widget-view+json": {
       "model_id": "0d6b09c25b64492d8ff984352a8b7244",
       "version_major": 2,
       "version_minor": 0
      },
      "text/plain": [
       "interactive(children=(IntSlider(value=180, description='k', max=360, min=1), Output()), _dom_classes=('widget-…"
      ]
     },
     "metadata": {},
     "output_type": "display_data"
    },
    {
     "data": {
      "text/plain": [
       "<function __main__.f(k)>"
      ]
     },
     "execution_count": 7,
     "metadata": {},
     "output_type": "execute_result"
    }
   ],
   "source": [
    "from ipywidgets import interact\n",
    "\n",
    "def f(k):\n",
    "    close_px.AAPL.plot()\n",
    "    close_px.AAPL.rolling(k).mean().plot()#移動平均\n",
    "\n",
    "interact(f,k=(1,360,1))\n"
   ]
  },
  {
   "cell_type": "code",
   "execution_count": null,
   "id": "53a21546-173d-4b97-b33e-01003bc13ea1",
   "metadata": {},
   "outputs": [],
   "source": []
  }
 ],
 "metadata": {
  "kernelspec": {
   "display_name": "Python 3 (ipykernel)",
   "language": "python",
   "name": "python3"
  },
  "language_info": {
   "codemirror_mode": {
    "name": "ipython",
    "version": 3
   },
   "file_extension": ".py",
   "mimetype": "text/x-python",
   "name": "python",
   "nbconvert_exporter": "python",
   "pygments_lexer": "ipython3",
   "version": "3.9.7"
  }
 },
 "nbformat": 4,
 "nbformat_minor": 5
}
