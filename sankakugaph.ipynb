{
 "cells": [
  {
   "cell_type": "code",
   "execution_count": 2,
   "id": "b0a1cf13-3a9a-4ef8-abdc-3a49157cdc32",
   "metadata": {},
   "outputs": [],
   "source": [
    "import pandas as pd\n",
    "import numpy as np\n",
    "import matplotlib.pyplot as plt\n",
    "\n",
    "%matplotlib inline\n",
    "\n",
    "from ipywidgets import interact"
   ]
  },
  {
   "cell_type": "code",
   "execution_count": 6,
   "id": "a661fa49-607d-4ebb-a3a0-951fbd3dcd57",
   "metadata": {},
   "outputs": [
    {
     "data": {
      "application/vnd.jupyter.widget-view+json": {
       "model_id": "6ed01b86aa2e4589950a14d58dc4cabb",
       "version_major": 2,
       "version_minor": 0
      },
      "text/plain": [
       "interactive(children=(FloatSlider(value=5.0, description='k', max=10.0), Output()), _dom_classes=('widget-inte…"
      ]
     },
     "metadata": {},
     "output_type": "display_data"
    },
    {
     "data": {
      "text/plain": [
       "<function __main__.f(k)>"
      ]
     },
     "execution_count": 6,
     "metadata": {},
     "output_type": "execute_result"
    }
   ],
   "source": [
    "def f(k):    \n",
    "    x = np.linspace(-10, 10, num=1000)\n",
    "    y0 = np.sin(k*x)\n",
    "    y1 = k*np.sin(x)\n",
    "    \n",
    "    fig,axes = plt.subplots(1,2,figsize=(20,5))\n",
    "    axes[0].plot(x,y0,label='y=sin(kx)')\n",
    "    axes[1].plot(x,y1,label='y=k sin(x)',color='g') \n",
    "    \n",
    "    for i in [0,1]:\n",
    "        axes[i].set_aspect('equal')\n",
    "        axes[i].set_xticks(np.arange(-10,11,2))\n",
    "        axes[i].set_yticks(range(-6,7,2))\n",
    "        axes[i].set_xlim(-11,11)\n",
    "        axes[i].set_ylim(-6,6)\n",
    "        axes[i].grid()\n",
    "        axes[i].legend(loc=1)\n",
    "\n",
    "    #plt.show()\n",
    "\n",
    "interact(f,k=(0.0,10.0,0.1) )"
   ]
  },
  {
   "cell_type": "code",
   "execution_count": null,
   "id": "288785d5-0a74-4594-a7f4-3b309a0f54e2",
   "metadata": {},
   "outputs": [],
   "source": []
  }
 ],
 "metadata": {
  "kernelspec": {
   "display_name": "Python 3 (ipykernel)",
   "language": "python",
   "name": "python3"
  },
  "language_info": {
   "codemirror_mode": {
    "name": "ipython",
    "version": 3
   },
   "file_extension": ".py",
   "mimetype": "text/x-python",
   "name": "python",
   "nbconvert_exporter": "python",
   "pygments_lexer": "ipython3",
   "version": "3.9.7"
  }
 },
 "nbformat": 4,
 "nbformat_minor": 5
}
